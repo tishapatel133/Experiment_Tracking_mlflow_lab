{
 "cells": [
  {
   "cell_type": "markdown",
   "id": "b654dddb",
   "metadata": {},
   "source": [
    "**Title & Objective**  \n",
    "   “Predict next-month credit card default. Train, track (MLflow), register & serve a model; run batch + REST inference.”"
   ]
  },
  {
   "cell_type": "code",
   "execution_count": null,
   "id": "6e702b89",
   "metadata": {},
   "outputs": [],
   "source": [
    "# Core\n",
    "import os, time, json, re, warnings\n",
    "import numpy as np\n",
    "import pandas as pd\n",
    "\n",
    "# Viz\n",
    "import matplotlib.pyplot as plt\n",
    "import seaborn as sns\n",
    "\n",
    "# Sklearn\n",
    "from sklearn.model_selection import train_test_split, StratifiedKFold, GridSearchCV\n",
    "from sklearn.preprocessing import OneHotEncoder, StandardScaler\n",
    "from sklearn.compose import ColumnTransformer\n",
    "from sklearn.pipeline import Pipeline\n",
    "from sklearn.metrics import (\n",
    "    roc_auc_score, accuracy_score, f1_score,\n",
    "    precision_recall_curve, auc, classification_report, confusion_matrix\n",
    ")\n",
    "from sklearn.linear_model import LogisticRegression\n",
    "from sklearn.ensemble import RandomForestClassifier\n",
    "\n",
    "# MLflow\n",
    "import mlflow\n",
    "import mlflow.pyfunc\n",
    "import mlflow.sklearn\n",
    "from mlflow.models.signature import infer_signature\n",
    "\n",
    "RANDOM_STATE = 123\n",
    "np.random.seed(RANDOM_STATE)\n",
    "\n",
    "mlflow.set_tracking_uri(\"file://\" + os.path.abspath(\"mlruns\"))\n",
    "\n",
    "mlflow.set_tracking_uri(\"http://127.0.0.1:5000\")\n",
    "mlflow.set_registry_uri(\"http://127.0.0.1:5000\")\n",
    "mlflow.set_experiment(\"credit_card_default_lab\")\n",
    "warnings.filterwarnings(\"ignore\")"
   ]
  },
  {
   "cell_type": "markdown",
   "id": "e7cc42f6",
   "metadata": {},
   "source": [
    "**Load Dataset (UCI Credit Card Default)**  \n",
    "   “Read local `.xls`/`.csv`, normalize columns, preview shape & head.”"
   ]
  },
  {
   "cell_type": "code",
   "execution_count": null,
   "id": "72d21a7d",
   "metadata": {},
   "outputs": [
    {
     "name": "stdout",
     "output_type": "stream",
     "text": [
      "Shape: (30000, 25)\n"
     ]
    },
    {
     "data": {
      "text/html": [
       "<div>\n",
       "<style scoped>\n",
       "    .dataframe tbody tr th:only-of-type {\n",
       "        vertical-align: middle;\n",
       "    }\n",
       "\n",
       "    .dataframe tbody tr th {\n",
       "        vertical-align: top;\n",
       "    }\n",
       "\n",
       "    .dataframe thead th {\n",
       "        text-align: right;\n",
       "    }\n",
       "</style>\n",
       "<table border=\"1\" class=\"dataframe\">\n",
       "  <thead>\n",
       "    <tr style=\"text-align: right;\">\n",
       "      <th></th>\n",
       "      <th>id</th>\n",
       "      <th>limit_bal</th>\n",
       "      <th>sex</th>\n",
       "      <th>education</th>\n",
       "      <th>marriage</th>\n",
       "      <th>age</th>\n",
       "      <th>pay_0</th>\n",
       "      <th>pay_2</th>\n",
       "      <th>pay_3</th>\n",
       "      <th>pay_4</th>\n",
       "      <th>...</th>\n",
       "      <th>bill_amt4</th>\n",
       "      <th>bill_amt5</th>\n",
       "      <th>bill_amt6</th>\n",
       "      <th>pay_amt1</th>\n",
       "      <th>pay_amt2</th>\n",
       "      <th>pay_amt3</th>\n",
       "      <th>pay_amt4</th>\n",
       "      <th>pay_amt5</th>\n",
       "      <th>pay_amt6</th>\n",
       "      <th>default_payment_next_month</th>\n",
       "    </tr>\n",
       "  </thead>\n",
       "  <tbody>\n",
       "    <tr>\n",
       "      <th>0</th>\n",
       "      <td>1</td>\n",
       "      <td>20000</td>\n",
       "      <td>2</td>\n",
       "      <td>2</td>\n",
       "      <td>1</td>\n",
       "      <td>24</td>\n",
       "      <td>2</td>\n",
       "      <td>2</td>\n",
       "      <td>-1</td>\n",
       "      <td>-1</td>\n",
       "      <td>...</td>\n",
       "      <td>0</td>\n",
       "      <td>0</td>\n",
       "      <td>0</td>\n",
       "      <td>0</td>\n",
       "      <td>689</td>\n",
       "      <td>0</td>\n",
       "      <td>0</td>\n",
       "      <td>0</td>\n",
       "      <td>0</td>\n",
       "      <td>1</td>\n",
       "    </tr>\n",
       "    <tr>\n",
       "      <th>1</th>\n",
       "      <td>2</td>\n",
       "      <td>120000</td>\n",
       "      <td>2</td>\n",
       "      <td>2</td>\n",
       "      <td>2</td>\n",
       "      <td>26</td>\n",
       "      <td>-1</td>\n",
       "      <td>2</td>\n",
       "      <td>0</td>\n",
       "      <td>0</td>\n",
       "      <td>...</td>\n",
       "      <td>3272</td>\n",
       "      <td>3455</td>\n",
       "      <td>3261</td>\n",
       "      <td>0</td>\n",
       "      <td>1000</td>\n",
       "      <td>1000</td>\n",
       "      <td>1000</td>\n",
       "      <td>0</td>\n",
       "      <td>2000</td>\n",
       "      <td>1</td>\n",
       "    </tr>\n",
       "    <tr>\n",
       "      <th>2</th>\n",
       "      <td>3</td>\n",
       "      <td>90000</td>\n",
       "      <td>2</td>\n",
       "      <td>2</td>\n",
       "      <td>2</td>\n",
       "      <td>34</td>\n",
       "      <td>0</td>\n",
       "      <td>0</td>\n",
       "      <td>0</td>\n",
       "      <td>0</td>\n",
       "      <td>...</td>\n",
       "      <td>14331</td>\n",
       "      <td>14948</td>\n",
       "      <td>15549</td>\n",
       "      <td>1518</td>\n",
       "      <td>1500</td>\n",
       "      <td>1000</td>\n",
       "      <td>1000</td>\n",
       "      <td>1000</td>\n",
       "      <td>5000</td>\n",
       "      <td>0</td>\n",
       "    </tr>\n",
       "    <tr>\n",
       "      <th>3</th>\n",
       "      <td>4</td>\n",
       "      <td>50000</td>\n",
       "      <td>2</td>\n",
       "      <td>2</td>\n",
       "      <td>1</td>\n",
       "      <td>37</td>\n",
       "      <td>0</td>\n",
       "      <td>0</td>\n",
       "      <td>0</td>\n",
       "      <td>0</td>\n",
       "      <td>...</td>\n",
       "      <td>28314</td>\n",
       "      <td>28959</td>\n",
       "      <td>29547</td>\n",
       "      <td>2000</td>\n",
       "      <td>2019</td>\n",
       "      <td>1200</td>\n",
       "      <td>1100</td>\n",
       "      <td>1069</td>\n",
       "      <td>1000</td>\n",
       "      <td>0</td>\n",
       "    </tr>\n",
       "    <tr>\n",
       "      <th>4</th>\n",
       "      <td>5</td>\n",
       "      <td>50000</td>\n",
       "      <td>1</td>\n",
       "      <td>2</td>\n",
       "      <td>1</td>\n",
       "      <td>57</td>\n",
       "      <td>-1</td>\n",
       "      <td>0</td>\n",
       "      <td>-1</td>\n",
       "      <td>0</td>\n",
       "      <td>...</td>\n",
       "      <td>20940</td>\n",
       "      <td>19146</td>\n",
       "      <td>19131</td>\n",
       "      <td>2000</td>\n",
       "      <td>36681</td>\n",
       "      <td>10000</td>\n",
       "      <td>9000</td>\n",
       "      <td>689</td>\n",
       "      <td>679</td>\n",
       "      <td>0</td>\n",
       "    </tr>\n",
       "  </tbody>\n",
       "</table>\n",
       "<p>5 rows × 25 columns</p>\n",
       "</div>"
      ],
      "text/plain": [
       "   id  limit_bal  sex  education  marriage  age  pay_0  pay_2  pay_3  pay_4  \\\n",
       "0   1      20000    2          2         1   24      2      2     -1     -1   \n",
       "1   2     120000    2          2         2   26     -1      2      0      0   \n",
       "2   3      90000    2          2         2   34      0      0      0      0   \n",
       "3   4      50000    2          2         1   37      0      0      0      0   \n",
       "4   5      50000    1          2         1   57     -1      0     -1      0   \n",
       "\n",
       "   ...  bill_amt4  bill_amt5  bill_amt6  pay_amt1  pay_amt2  pay_amt3  \\\n",
       "0  ...          0          0          0         0       689         0   \n",
       "1  ...       3272       3455       3261         0      1000      1000   \n",
       "2  ...      14331      14948      15549      1518      1500      1000   \n",
       "3  ...      28314      28959      29547      2000      2019      1200   \n",
       "4  ...      20940      19146      19131      2000     36681     10000   \n",
       "\n",
       "   pay_amt4  pay_amt5  pay_amt6  default_payment_next_month  \n",
       "0         0         0         0                           1  \n",
       "1      1000         0      2000                           1  \n",
       "2      1000      1000      5000                           0  \n",
       "3      1100      1069      1000                           0  \n",
       "4      9000       689       679                           0  \n",
       "\n",
       "[5 rows x 25 columns]"
      ]
     },
     "execution_count": 16,
     "metadata": {},
     "output_type": "execute_result"
    }
   ],
   "source": [
    "#to Load Credit Card Default dataset (local file) \n",
    "\n",
    "import pandas as pd\n",
    "import re\n",
    "\n",
    "data_path = \"data/default of credit card clients.xls\"\n",
    "\n",
    "df_raw = pd.read_excel(data_path, header=1)\n",
    "\n",
    "# to clean column names\n",
    "df_raw.columns = [re.sub(r\"\\s+\", \"_\", c.strip()).lower() for c in df_raw.columns]\n",
    "\n",
    "print(\"Shape:\", df_raw.shape)\n",
    "df_raw.head()"
   ]
  },
  {
   "cell_type": "markdown",
   "id": "be615c20",
   "metadata": {},
   "source": [
    "**Clean Target & Basic Checks**  \n",
    "   “Rename target to `label`, drop ID columns, show label distribution.”"
   ]
  },
  {
   "cell_type": "code",
   "execution_count": 17,
   "id": "1e6867b7",
   "metadata": {},
   "outputs": [
    {
     "name": "stdout",
     "output_type": "stream",
     "text": [
      "Columns: 24\n",
      "Label distribution:\n",
      " label\n",
      "0    0.7788\n",
      "1    0.2212\n",
      "Name: proportion, dtype: float64\n"
     ]
    },
    {
     "data": {
      "text/html": [
       "<div>\n",
       "<style scoped>\n",
       "    .dataframe tbody tr th:only-of-type {\n",
       "        vertical-align: middle;\n",
       "    }\n",
       "\n",
       "    .dataframe tbody tr th {\n",
       "        vertical-align: top;\n",
       "    }\n",
       "\n",
       "    .dataframe thead th {\n",
       "        text-align: right;\n",
       "    }\n",
       "</style>\n",
       "<table border=\"1\" class=\"dataframe\">\n",
       "  <thead>\n",
       "    <tr style=\"text-align: right;\">\n",
       "      <th></th>\n",
       "      <th>limit_bal</th>\n",
       "      <th>sex</th>\n",
       "      <th>education</th>\n",
       "      <th>marriage</th>\n",
       "      <th>age</th>\n",
       "      <th>pay_0</th>\n",
       "      <th>pay_2</th>\n",
       "      <th>pay_3</th>\n",
       "      <th>pay_4</th>\n",
       "      <th>pay_5</th>\n",
       "      <th>...</th>\n",
       "      <th>bill_amt4</th>\n",
       "      <th>bill_amt5</th>\n",
       "      <th>bill_amt6</th>\n",
       "      <th>pay_amt1</th>\n",
       "      <th>pay_amt2</th>\n",
       "      <th>pay_amt3</th>\n",
       "      <th>pay_amt4</th>\n",
       "      <th>pay_amt5</th>\n",
       "      <th>pay_amt6</th>\n",
       "      <th>label</th>\n",
       "    </tr>\n",
       "  </thead>\n",
       "  <tbody>\n",
       "    <tr>\n",
       "      <th>0</th>\n",
       "      <td>20000</td>\n",
       "      <td>2</td>\n",
       "      <td>2</td>\n",
       "      <td>1</td>\n",
       "      <td>24</td>\n",
       "      <td>2</td>\n",
       "      <td>2</td>\n",
       "      <td>-1</td>\n",
       "      <td>-1</td>\n",
       "      <td>-2</td>\n",
       "      <td>...</td>\n",
       "      <td>0</td>\n",
       "      <td>0</td>\n",
       "      <td>0</td>\n",
       "      <td>0</td>\n",
       "      <td>689</td>\n",
       "      <td>0</td>\n",
       "      <td>0</td>\n",
       "      <td>0</td>\n",
       "      <td>0</td>\n",
       "      <td>1</td>\n",
       "    </tr>\n",
       "    <tr>\n",
       "      <th>1</th>\n",
       "      <td>120000</td>\n",
       "      <td>2</td>\n",
       "      <td>2</td>\n",
       "      <td>2</td>\n",
       "      <td>26</td>\n",
       "      <td>-1</td>\n",
       "      <td>2</td>\n",
       "      <td>0</td>\n",
       "      <td>0</td>\n",
       "      <td>0</td>\n",
       "      <td>...</td>\n",
       "      <td>3272</td>\n",
       "      <td>3455</td>\n",
       "      <td>3261</td>\n",
       "      <td>0</td>\n",
       "      <td>1000</td>\n",
       "      <td>1000</td>\n",
       "      <td>1000</td>\n",
       "      <td>0</td>\n",
       "      <td>2000</td>\n",
       "      <td>1</td>\n",
       "    </tr>\n",
       "    <tr>\n",
       "      <th>2</th>\n",
       "      <td>90000</td>\n",
       "      <td>2</td>\n",
       "      <td>2</td>\n",
       "      <td>2</td>\n",
       "      <td>34</td>\n",
       "      <td>0</td>\n",
       "      <td>0</td>\n",
       "      <td>0</td>\n",
       "      <td>0</td>\n",
       "      <td>0</td>\n",
       "      <td>...</td>\n",
       "      <td>14331</td>\n",
       "      <td>14948</td>\n",
       "      <td>15549</td>\n",
       "      <td>1518</td>\n",
       "      <td>1500</td>\n",
       "      <td>1000</td>\n",
       "      <td>1000</td>\n",
       "      <td>1000</td>\n",
       "      <td>5000</td>\n",
       "      <td>0</td>\n",
       "    </tr>\n",
       "    <tr>\n",
       "      <th>3</th>\n",
       "      <td>50000</td>\n",
       "      <td>2</td>\n",
       "      <td>2</td>\n",
       "      <td>1</td>\n",
       "      <td>37</td>\n",
       "      <td>0</td>\n",
       "      <td>0</td>\n",
       "      <td>0</td>\n",
       "      <td>0</td>\n",
       "      <td>0</td>\n",
       "      <td>...</td>\n",
       "      <td>28314</td>\n",
       "      <td>28959</td>\n",
       "      <td>29547</td>\n",
       "      <td>2000</td>\n",
       "      <td>2019</td>\n",
       "      <td>1200</td>\n",
       "      <td>1100</td>\n",
       "      <td>1069</td>\n",
       "      <td>1000</td>\n",
       "      <td>0</td>\n",
       "    </tr>\n",
       "    <tr>\n",
       "      <th>4</th>\n",
       "      <td>50000</td>\n",
       "      <td>1</td>\n",
       "      <td>2</td>\n",
       "      <td>1</td>\n",
       "      <td>57</td>\n",
       "      <td>-1</td>\n",
       "      <td>0</td>\n",
       "      <td>-1</td>\n",
       "      <td>0</td>\n",
       "      <td>0</td>\n",
       "      <td>...</td>\n",
       "      <td>20940</td>\n",
       "      <td>19146</td>\n",
       "      <td>19131</td>\n",
       "      <td>2000</td>\n",
       "      <td>36681</td>\n",
       "      <td>10000</td>\n",
       "      <td>9000</td>\n",
       "      <td>689</td>\n",
       "      <td>679</td>\n",
       "      <td>0</td>\n",
       "    </tr>\n",
       "  </tbody>\n",
       "</table>\n",
       "<p>5 rows × 24 columns</p>\n",
       "</div>"
      ],
      "text/plain": [
       "   limit_bal  sex  education  marriage  age  pay_0  pay_2  pay_3  pay_4  \\\n",
       "0      20000    2          2         1   24      2      2     -1     -1   \n",
       "1     120000    2          2         2   26     -1      2      0      0   \n",
       "2      90000    2          2         2   34      0      0      0      0   \n",
       "3      50000    2          2         1   37      0      0      0      0   \n",
       "4      50000    1          2         1   57     -1      0     -1      0   \n",
       "\n",
       "   pay_5  ...  bill_amt4  bill_amt5  bill_amt6  pay_amt1  pay_amt2  pay_amt3  \\\n",
       "0     -2  ...          0          0          0         0       689         0   \n",
       "1      0  ...       3272       3455       3261         0      1000      1000   \n",
       "2      0  ...      14331      14948      15549      1518      1500      1000   \n",
       "3      0  ...      28314      28959      29547      2000      2019      1200   \n",
       "4      0  ...      20940      19146      19131      2000     36681     10000   \n",
       "\n",
       "   pay_amt4  pay_amt5  pay_amt6  label  \n",
       "0         0         0         0      1  \n",
       "1      1000         0      2000      1  \n",
       "2      1000      1000      5000      0  \n",
       "3      1100      1069      1000      0  \n",
       "4      9000       689       679      0  \n",
       "\n",
       "[5 rows x 24 columns]"
      ]
     },
     "execution_count": 17,
     "metadata": {},
     "output_type": "execute_result"
    }
   ],
   "source": [
    "df = df_raw.copy()\n",
    "\n",
    "# target\n",
    "target_col = None\n",
    "try:\n",
    "    target_col = [c for c in df.columns if c.startswith(\"default\")][0]\n",
    "except:\n",
    "    raise RuntimeError(\"Target column not found; inspect df.columns.\")\n",
    "\n",
    "# rename target to 'label'\n",
    "df = df.rename(columns={target_col: \"label\"})\n",
    "\n",
    "# Common ID column in some mirrors (drop if present)\n",
    "for id_like in [\"id\", \"unnamed:_0\", \"unnamed:0\"]:\n",
    "    if id_like in df.columns:\n",
    "        df = df.drop(columns=[id_like])\n",
    "\n",
    "print(\"Columns:\", len(df.columns))\n",
    "print(\"Label distribution:\\n\", df[\"label\"].value_counts(normalize=True))\n",
    "df.head()"
   ]
  },
  {
   "cell_type": "markdown",
   "id": "cb884091",
   "metadata": {},
   "source": [
    "**Quick EDA**  \n",
    "   “Visualize class imbalance and correlations (subset to keep plots readable).”"
   ]
  },
  {
   "cell_type": "code",
   "execution_count": 18,
   "id": "c40d947f",
   "metadata": {},
   "outputs": [
    {
     "data": {
      "image/png": "[encoded data removed]",
      "text/plain": [
       "<Figure size 500x400 with 1 Axes>"
      ]
     },
     "metadata": {},
     "output_type": "display_data"
    },
    {
     "data": {
      "image/png": "[encoded data removed]",
      "text/plain": [
       "<Figure size 800x600 with 2 Axes>"
      ]
     },
     "metadata": {},
     "output_type": "display_data"
    }
   ],
   "source": [
    "plt.figure(figsize=(5,4))\n",
    "sns.countplot(x=\"label\", data=df)\n",
    "plt.title(\"Label distribution (0 = no default, 1 = default)\")\n",
    "plt.show()\n",
    "\n",
    "# Correlation heatmap for a subset to keep it readable\n",
    "subset_cols = [c for c in df.columns if c != \"label\"][:15]\n",
    "corr = df[subset_cols + [\"label\"]].corr(numeric_only=True)\n",
    "plt.figure(figsize=(8,6))\n",
    "sns.heatmap(corr, annot=False)\n",
    "plt.title(\"Correlation (subset)\")\n",
    "plt.show()"
   ]
  },
  {
   "cell_type": "markdown",
   "id": "1244d419",
   "metadata": {},
   "source": [
    "**Define Features**  \n",
    "   “Categorical-like (`SEX`, `EDUCATION`, `MARRIAGE`, `PAY_0..6`) vs numeric (limits/bills/payments/age).”"
   ]
  },
  {
   "cell_type": "code",
   "execution_count": 19,
   "id": "c2baf338",
   "metadata": {},
   "outputs": [
    {
     "name": "stdout",
     "output_type": "stream",
     "text": [
      "Categorical-like: ['sex', 'education', 'marriage', 'pay_0', 'pay_2', 'pay_3', 'pay_4', 'pay_5', 'pay_6'] ... total: 9\n",
      "Numeric: ['limit_bal', 'age', 'bill_amt1', 'bill_amt2', 'bill_amt3', 'bill_amt4', 'bill_amt5', 'bill_amt6', 'pay_amt1', 'pay_amt2'] ... total: 14\n"
     ]
    }
   ],
   "source": [
    "# some datasets name these PAY columns as pay_0..pay_6 after normalization\n",
    "pay_cols = [c for c in df.columns if re.match(r\"pay_[-]?\\d+\", c) or re.match(r\"pay_\\d+\", c)]\n",
    "if not pay_cols:\n",
    "    # fall back to common names: pay_0..pay_6\n",
    "    pay_cols = [f\"pay_{i}\" for i in range(0, 7) if f\"pay_{i}\" in df.columns]\n",
    "\n",
    "cat_cols = []\n",
    "for c in [\"sex\", \"education\", \"marriage\"]:\n",
    "    if c in df.columns:\n",
    "        cat_cols.append(c)\n",
    "cat_cols += pay_cols\n",
    "\n",
    "# ensure columns exist\n",
    "cat_cols = [c for c in cat_cols if c in df.columns]\n",
    "\n",
    "feature_cols = [c for c in df.columns if c != \"label\"]\n",
    "num_cols = [c for c in feature_cols if c not in cat_cols]\n",
    "\n",
    "print(\"Categorical-like:\", cat_cols[:10], \"... total:\", len(cat_cols))\n",
    "print(\"Numeric:\", num_cols[:10], \"... total:\", len(num_cols))"
   ]
  },
  {
   "cell_type": "markdown",
   "id": "90970820",
   "metadata": {},
   "source": [
    "**Train/Val/Test Split**  \n",
    "   “Stratified 60/20/20 with fixed `random_state`.”"
   ]
  },
  {
   "cell_type": "code",
   "execution_count": 20,
   "id": "e127f1f6",
   "metadata": {},
   "outputs": [
    {
     "data": {
      "text/plain": [
       "((18000, 23), (6000, 23), (6000, 23))"
      ]
     },
     "execution_count": 20,
     "metadata": {},
     "output_type": "execute_result"
    }
   ],
   "source": [
    "X = df[feature_cols].copy()\n",
    "y = df[\"label\"].astype(int).copy()\n",
    "\n",
    "X_train, X_rem, y_train, y_rem = train_test_split(\n",
    "    X, y, train_size=0.6, stratify=y, random_state=RANDOM_STATE\n",
    ")\n",
    "X_val, X_test, y_val, y_test = train_test_split(\n",
    "    X_rem, y_rem, test_size=0.5, stratify=y_rem, random_state=RANDOM_STATE\n",
    ")\n",
    "\n",
    "X_train.shape, X_val.shape, X_test.shape"
   ]
  },
  {
   "cell_type": "markdown",
   "id": "f3ed46f4",
   "metadata": {},
   "source": [
    "**Preprocessing Pipeline**  \n",
    "   “`ColumnTransformer`: scale numeric, one-hot encode categorical.”"
   ]
  },
  {
   "cell_type": "code",
   "execution_count": 21,
   "id": "bef76f9e",
   "metadata": {},
   "outputs": [],
   "source": [
    "preprocess = ColumnTransformer(\n",
    "    transformers=[\n",
    "        (\"num\", StandardScaler(with_mean=True), num_cols),\n",
    "        (\"cat\", OneHotEncoder(handle_unknown=\"ignore\", sparse_output=False), cat_cols),\n",
    "    ],\n",
    "    remainder=\"drop\",\n",
    "    verbose_feature_names_out=False\n",
    ")"
   ]
  },
  {
   "cell_type": "markdown",
   "id": "9a8669b8",
   "metadata": {},
   "source": [
    "**Metrics Helper**  \n",
    "   “Function to compute AUC, PR-AUC, Accuracy, F1, and confusion matrix.”"
   ]
  },
  {
   "cell_type": "code",
   "execution_count": 22,
   "id": "f208de68",
   "metadata": {},
   "outputs": [],
   "source": [
    "def evaluate_binary(y_true, y_prob, threshold=0.5):\n",
    "    y_pred = (y_prob >= threshold).astype(int)\n",
    "    roc = roc_auc_score(y_true, y_prob)\n",
    "    acc = accuracy_score(y_true, y_pred)\n",
    "    f1 = f1_score(y_true, y_pred)\n",
    "    precision, recall, _ = precision_recall_curve(y_true, y_prob)\n",
    "    pr_auc = auc(recall, precision)\n",
    "    cm = confusion_matrix(y_true, y_pred)\n",
    "    return {\"auc\": roc, \"accuracy\": acc, \"f1\": f1, \"pr_auc\": pr_auc, \"cm\": cm.tolist()}"
   ]
  },
  {
   "cell_type": "markdown",
   "id": "8546d50c",
   "metadata": {},
   "source": [
    "**Baseline Model: Logistic Regression (Balanced)**  \n",
    "    “Train baseline, log params/metrics/model to MLflow.”"
   ]
  },
  {
   "cell_type": "code",
   "execution_count": null,
   "id": "b0c9beb3",
   "metadata": {},
   "outputs": [
    {
     "name": "stderr",
     "output_type": "stream",
     "text": [
      "/Users/haber/Desktop/Tisha/MLOps-main/Labs/Experiment_Tracking_Labs/Mlflow_Labs/Lab2/credit_env/lib/python3.10/site-packages/mlflow/pyfunc/utils/data_validation.py:186: UserWarning: \u001b[33mAdd type hints to the `predict` method to enable data validation and automatic signature inference during model logging. Check https://mlflow.org/docs/latest/model/python_model.html#type-hint-usage-in-pythonmodel for more details.\u001b[0m\n",
      "  color_warning(\n",
      "2025/10/20 16:41:45 WARNING mlflow.models.model: `artifact_path` is deprecated. Please use `name` instead.\n"
     ]
    },
    {
     "name": "stdout",
     "output_type": "stream",
     "text": [
      "Validation: {'auc': 0.7632502514484998, 'accuracy': 0.7701666666666667, 'f1': 0.5236614853195164, 'pr_auc': 0.5265295069999698}\n",
      "Test: {'auc': 0.7783176486771398, 'accuracy': 0.7821666666666667, 'f1': 0.5453913043478261, 'pr_auc': 0.5535744616820278}\n",
      "🏃 View run baseline_logreg at: http://127.0.0.1:5000/#/experiments/1/runs/7f4ea90ccaf5462ea4ebbcfef14676dd\n",
      "🧪 View experiment at: http://127.0.0.1:5000/#/experiments/1\n"
     ]
    }
   ],
   "source": [
    "class ProbModelWrapper(mlflow.pyfunc.PythonModel):\n",
    "    def __init__(self, sk_pipeline):\n",
    "        self.sk_pipeline = sk_pipeline\n",
    "    def predict(self, context, model_input):\n",
    "        return self.sk_pipeline.predict_proba(model_input)[:, 1]\n",
    "\n",
    "with mlflow.start_run(run_name=\"baseline_logreg\"):\n",
    "    clf = Pipeline(steps=[\n",
    "        (\"prep\", preprocess),\n",
    "        (\"clf\", LogisticRegression(\n",
    "            max_iter=2000,\n",
    "            class_weight=\"balanced\",\n",
    "            random_state=RANDOM_STATE,\n",
    "            n_jobs=None\n",
    "        ))\n",
    "    ])\n",
    "    clf.fit(X_train, y_train)\n",
    "\n",
    "    val_probs = clf.predict_proba(X_val)[:, 1]\n",
    "    test_probs = clf.predict_proba(X_test)[:, 1]\n",
    "    val_metrics = evaluate_binary(y_val, val_probs)\n",
    "    test_metrics = evaluate_binary(y_test, test_probs)\n",
    "\n",
    "    mlflow.log_param(\"model_type\", \"LogisticRegression_balanced\")\n",
    "    for k, v in val_metrics.items():\n",
    "        if k != \"cm\":\n",
    "            mlflow.log_metric(f\"val_{k}\", v)\n",
    "    for k, v in test_metrics.items():\n",
    "        if k != \"cm\":\n",
    "            mlflow.log_metric(f\"test_{k}\", v)\n",
    "\n",
    "    # to save confusion matrices as artifacts\n",
    "    mlflow.log_text(json.dumps(val_metrics[\"cm\"]), artifact_file=\"val_confusion_matrix.json\")\n",
    "    mlflow.log_text(json.dumps(test_metrics[\"cm\"]), artifact_file=\"test_confusion_matrix.json\")\n",
    "\n",
    "    wrapped = ProbModelWrapper(clf)\n",
    "    signature = infer_signature(X_train, wrapped.predict(None, X_train))\n",
    "\n",
    "    mlflow.pyfunc.log_model(\n",
    "        artifact_path=\"model\",\n",
    "        python_model=wrapped,\n",
    "        signature=signature\n",
    "    )\n",
    "\n",
    "    print(\"Validation:\", {k: v for k, v in val_metrics.items() if k != \"cm\"})\n",
    "    print(\"Test:\", {k: v for k, v in test_metrics.items() if k != \"cm\"})"
   ]
  },
  {
   "cell_type": "markdown",
   "id": "0a85048c",
   "metadata": {},
   "source": [
    "**Baseline Model: Logistic Regression (Balanced)**  \n",
    "    “Train baseline, log params/metrics/model to MLflow.”"
   ]
  },
  {
   "cell_type": "code",
   "execution_count": 24,
   "id": "9c332977",
   "metadata": {},
   "outputs": [
    {
     "name": "stdout",
     "output_type": "stream",
     "text": [
      "Fitting 5 folds for each of 12 candidates, totalling 60 fits\n"
     ]
    },
    {
     "data": {
      "text/plain": [
       "({'clf__max_depth': 10, 'clf__min_samples_leaf': 3, 'clf__n_estimators': 400},\n",
       " np.float64(0.7820731371369392))"
      ]
     },
     "execution_count": 24,
     "metadata": {},
     "output_type": "execute_result"
    }
   ],
   "source": [
    "rf_pipe = Pipeline(steps=[\n",
    "    (\"prep\", preprocess),\n",
    "    (\"clf\", RandomForestClassifier(\n",
    "        random_state=RANDOM_STATE,\n",
    "        class_weight=\"balanced\",\n",
    "        n_jobs=-1\n",
    "    ))\n",
    "])\n",
    "\n",
    "param_grid = {\n",
    "    \"clf__n_estimators\": [200, 400],\n",
    "    \"clf__max_depth\": [None, 10, 20],\n",
    "    \"clf__min_samples_leaf\": [1, 3]\n",
    "}\n",
    "\n",
    "cv = StratifiedKFold(n_splits=5, shuffle=True, random_state=RANDOM_STATE)\n",
    "grid = GridSearchCV(\n",
    "    rf_pipe,\n",
    "    param_grid=param_grid,\n",
    "    scoring=\"roc_auc\",\n",
    "    cv=cv,\n",
    "    n_jobs=-1,\n",
    "    verbose=1\n",
    ")\n",
    "grid.fit(X_train, y_train)\n",
    "\n",
    "best_rf = grid.best_estimator_\n",
    "grid.best_params_, grid.best_score_"
   ]
  },
  {
   "cell_type": "markdown",
   "id": "112daa51",
   "metadata": {},
   "source": [
    "**Log Best RF + Feature Importances**  \n",
    "    “Log tuned metrics, importances, and model as pyfunc.”"
   ]
  },
  {
   "cell_type": "code",
   "execution_count": 25,
   "id": "1ca81339",
   "metadata": {},
   "outputs": [
    {
     "name": "stderr",
     "output_type": "stream",
     "text": [
      "/Users/haber/Desktop/Tisha/MLOps-main/Labs/Experiment_Tracking_Labs/Mlflow_Labs/Lab2/credit_env/lib/python3.10/site-packages/mlflow/pyfunc/utils/data_validation.py:186: UserWarning: \u001b[33mAdd type hints to the `predict` method to enable data validation and automatic signature inference during model logging. Check https://mlflow.org/docs/latest/model/python_model.html#type-hint-usage-in-pythonmodel for more details.\u001b[0m\n",
      "  color_warning(\n",
      "2025/10/20 16:42:22 WARNING mlflow.models.model: `artifact_path` is deprecated. Please use `name` instead.\n"
     ]
    },
    {
     "name": "stdout",
     "output_type": "stream",
     "text": [
      "Best RF params: {'clf__max_depth': 10, 'clf__min_samples_leaf': 3, 'clf__n_estimators': 400}\n",
      "Validation: {'auc': 0.7746657795080882, 'accuracy': 0.7775, 'f1': 0.5346810735447891, 'pr_auc': 0.5466031422880703}\n",
      "Test: {'auc': 0.7793992360351945, 'accuracy': 0.7793333333333333, 'f1': 0.5364145658263305, 'pr_auc': 0.5624267800341484}\n",
      "🏃 View run rf_tuned_balanced at: http://127.0.0.1:5000/#/experiments/1/runs/877a1cc1e0f34568a1ab7472f2d99861\n",
      "🧪 View experiment at: http://127.0.0.1:5000/#/experiments/1\n"
     ]
    }
   ],
   "source": [
    "with mlflow.start_run(run_name=\"rf_tuned_balanced\"):\n",
    "    val_probs = best_rf.predict_proba(X_val)[:, 1]\n",
    "    test_probs = best_rf.predict_proba(X_test)[:, 1]\n",
    "    val_metrics = evaluate_binary(y_val, val_probs)\n",
    "    test_metrics = evaluate_binary(y_test, test_probs)\n",
    "\n",
    "    mlflow.log_param(\"model_type\", \"RandomForest_balanced\")\n",
    "    mlflow.log_params(grid.best_params_)\n",
    "    for k, v in val_metrics.items():\n",
    "        if k != \"cm\": mlflow.log_metric(f\"val_{k}\", v)\n",
    "    for k, v in test_metrics.items():\n",
    "        if k != \"cm\": mlflow.log_metric(f\"test_{k}\", v)\n",
    "    mlflow.log_text(json.dumps(val_metrics[\"cm\"]), artifact_file=\"val_confusion_matrix.json\")\n",
    "    mlflow.log_text(json.dumps(test_metrics[\"cm\"]), artifact_file=\"test_confusion_matrix.json\")\n",
    "\n",
    "    # Extract feature names after transform\n",
    "    # Get names from ColumnTransformer\n",
    "    ohe = best_rf.named_steps[\"prep\"].named_transformers_[\"cat\"]\n",
    "    num_features = best_rf.named_steps[\"prep\"].transformers_[0][2]  # numeric cols list\n",
    "    cat_features = ohe.get_feature_names_out(best_rf.named_steps[\"prep\"].transformers_[1][2]).tolist()\n",
    "    all_features = list(num_features) + cat_features\n",
    "\n",
    "    rf = best_rf.named_steps[\"clf\"]\n",
    "    importances = rf.feature_importances_\n",
    "    feats = pd.DataFrame({\"feature\": all_features, \"importance\": importances}).sort_values(\"importance\", ascending=False)\n",
    "    mlflow.log_text(feats.to_csv(index=False), artifact_file=\"feature_importances.csv\")\n",
    "\n",
    "    # Log model\n",
    "    class ProbModelWrapper(mlflow.pyfunc.PythonModel):\n",
    "        def __init__(self, sk_pipeline):\n",
    "            self.sk_pipeline = sk_pipeline\n",
    "        def predict(self, context, model_input):\n",
    "            return self.sk_pipeline.predict_proba(model_input)[:, 1]\n",
    "\n",
    "    wrapped = ProbModelWrapper(best_rf)\n",
    "    signature = infer_signature(X_train, wrapped.predict(None, X_train))\n",
    "    mlflow.pyfunc.log_model(\n",
    "        artifact_path=\"model\",\n",
    "        python_model=wrapped,\n",
    "        signature=signature\n",
    "    )\n",
    "\n",
    "    print(\"Best RF params:\", grid.best_params_)\n",
    "    print(\"Validation:\", {k: v for k, v in val_metrics.items() if k != \"cm\"})\n",
    "    print(\"Test:\", {k: v for k, v in test_metrics.items() if k != \"cm\"})\n",
    "    feats.head(15)\n"
   ]
  },
  {
   "cell_type": "markdown",
   "id": "47a598ac",
   "metadata": {},
   "source": [
    "**Register Best Run to Model Registry**  \n",
    "    “Register the top run’s model under `credit_default_classifier`.”"
   ]
  },
  {
   "cell_type": "code",
   "execution_count": 26,
   "id": "3c1d3e56",
   "metadata": {},
   "outputs": [
    {
     "name": "stderr",
     "output_type": "stream",
     "text": [
      "Successfully registered model 'credit_default_classifier'.\n",
      "2025/10/20 16:42:25 WARNING mlflow.tracking._model_registry.fluent: Run with id 877a1cc1e0f34568a1ab7472f2d99861 has no artifacts at artifact path 'model', registering model based on models:/m-b641ecbaa13a4c3e8045668bcd721a0e instead\n",
      "2025/10/20 16:42:25 INFO mlflow.store.model_registry.abstract_store: Waiting up to 300 seconds for model version to finish creation. Model name: credit_default_classifier, version 1\n"
     ]
    },
    {
     "name": "stdout",
     "output_type": "stream",
     "text": [
      "Registering: runs:/877a1cc1e0f34568a1ab7472f2d99861/model\n"
     ]
    },
    {
     "name": "stderr",
     "output_type": "stream",
     "text": [
      "Created version '1' of model 'credit_default_classifier'.\n"
     ]
    },
    {
     "data": {
      "text/plain": [
       "'1'"
      ]
     },
     "execution_count": 26,
     "metadata": {},
     "output_type": "execute_result"
    }
   ],
   "source": [
    "runs = mlflow.search_runs(order_by=[\"metrics.val_auc DESC\"])\n",
    "top_run = runs.iloc[0]\n",
    "top_run_id = top_run.run_id\n",
    "top_run_model_uri = f\"runs:/{top_run_id}/model\"\n",
    "\n",
    "model_name = \"credit_default_classifier\"\n",
    "print(\"Registering:\", top_run_model_uri)\n",
    "model_version = mlflow.register_model(top_run_model_uri, model_name)\n",
    "\n",
    "# give registry time to finalize\n",
    "time.sleep(10)\n",
    "model_version.version"
   ]
  },
  {
   "cell_type": "markdown",
   "id": "ce6ed3ee",
   "metadata": {},
   "source": [
    "**Promote to Production**  \n",
    "    “Transition the registered model version to the ‘Production’ stage.”"
   ]
  },
  {
   "cell_type": "code",
   "execution_count": 27,
   "id": "0c2f787b",
   "metadata": {},
   "outputs": [
    {
     "name": "stdout",
     "output_type": "stream",
     "text": [
      "Model credit_default_classifier version 1 moved to Production.\n"
     ]
    }
   ],
   "source": [
    "from mlflow.tracking import MlflowClient\n",
    "client = MlflowClient()\n",
    "\n",
    "client.transition_model_version_stage(\n",
    "    name=model_name,\n",
    "    version=model_version.version,\n",
    "    stage=\"Production\",\n",
    ")\n",
    "print(f\"Model {model_name} version {model_version.version} moved to Production.\")"
   ]
  },
  {
   "cell_type": "markdown",
   "id": "df8fa26a",
   "metadata": {},
   "source": [
    " **Load Production Model & Sanity Check**  \n",
    "    “Load from registry; compute AUC on test set to confirm.”"
   ]
  },
  {
   "cell_type": "code",
   "execution_count": 28,
   "id": "16fa2d83",
   "metadata": {},
   "outputs": [
    {
     "name": "stdout",
     "output_type": "stream",
     "text": [
      "AUC from production model on test set: 0.7794\n"
     ]
    }
   ],
   "source": [
    "prod_model = mlflow.pyfunc.load_model(f\"models:/{model_name}/production\")\n",
    "test_auc = roc_auc_score(y_test, prod_model.predict(X_test))\n",
    "print(f\"AUC from production model on test set: {test_auc:.4f}\")"
   ]
  },
  {
   "cell_type": "markdown",
   "id": "ad1459ec",
   "metadata": {},
   "source": [
    "**Batch Inference**  \n",
    "    “Score `X_test` with the production model; view top rows.”"
   ]
  },
  {
   "cell_type": "code",
   "execution_count": 30,
   "id": "1ec29e4c",
   "metadata": {},
   "outputs": [
    {
     "data": {
      "text/html": [
       "<div>\n",
       "<style scoped>\n",
       "    .dataframe tbody tr th:only-of-type {\n",
       "        vertical-align: middle;\n",
       "    }\n",
       "\n",
       "    .dataframe tbody tr th {\n",
       "        vertical-align: top;\n",
       "    }\n",
       "\n",
       "    .dataframe thead th {\n",
       "        text-align: right;\n",
       "    }\n",
       "</style>\n",
       "<table border=\"1\" class=\"dataframe\">\n",
       "  <thead>\n",
       "    <tr style=\"text-align: right;\">\n",
       "      <th></th>\n",
       "      <th>limit_bal</th>\n",
       "      <th>sex</th>\n",
       "      <th>education</th>\n",
       "      <th>marriage</th>\n",
       "      <th>age</th>\n",
       "      <th>pay_0</th>\n",
       "      <th>pay_2</th>\n",
       "      <th>pay_3</th>\n",
       "      <th>pay_4</th>\n",
       "      <th>pay_5</th>\n",
       "      <th>...</th>\n",
       "      <th>bill_amt4</th>\n",
       "      <th>bill_amt5</th>\n",
       "      <th>bill_amt6</th>\n",
       "      <th>pay_amt1</th>\n",
       "      <th>pay_amt2</th>\n",
       "      <th>pay_amt3</th>\n",
       "      <th>pay_amt4</th>\n",
       "      <th>pay_amt5</th>\n",
       "      <th>pay_amt6</th>\n",
       "      <th>prob_default</th>\n",
       "    </tr>\n",
       "  </thead>\n",
       "  <tbody>\n",
       "    <tr>\n",
       "      <th>10156</th>\n",
       "      <td>80000</td>\n",
       "      <td>1</td>\n",
       "      <td>1</td>\n",
       "      <td>2</td>\n",
       "      <td>28</td>\n",
       "      <td>0</td>\n",
       "      <td>0</td>\n",
       "      <td>0</td>\n",
       "      <td>0</td>\n",
       "      <td>0</td>\n",
       "      <td>...</td>\n",
       "      <td>48502</td>\n",
       "      <td>48610</td>\n",
       "      <td>49650</td>\n",
       "      <td>2000</td>\n",
       "      <td>2000</td>\n",
       "      <td>2000</td>\n",
       "      <td>1800</td>\n",
       "      <td>1800</td>\n",
       "      <td>2000</td>\n",
       "      <td>0.256787</td>\n",
       "    </tr>\n",
       "    <tr>\n",
       "      <th>7829</th>\n",
       "      <td>140000</td>\n",
       "      <td>1</td>\n",
       "      <td>2</td>\n",
       "      <td>1</td>\n",
       "      <td>29</td>\n",
       "      <td>1</td>\n",
       "      <td>2</td>\n",
       "      <td>2</td>\n",
       "      <td>2</td>\n",
       "      <td>2</td>\n",
       "      <td>...</td>\n",
       "      <td>73909</td>\n",
       "      <td>78305</td>\n",
       "      <td>76888</td>\n",
       "      <td>3000</td>\n",
       "      <td>3000</td>\n",
       "      <td>0</td>\n",
       "      <td>5763</td>\n",
       "      <td>0</td>\n",
       "      <td>6100</td>\n",
       "      <td>0.767510</td>\n",
       "    </tr>\n",
       "    <tr>\n",
       "      <th>24903</th>\n",
       "      <td>280000</td>\n",
       "      <td>1</td>\n",
       "      <td>1</td>\n",
       "      <td>2</td>\n",
       "      <td>30</td>\n",
       "      <td>0</td>\n",
       "      <td>0</td>\n",
       "      <td>0</td>\n",
       "      <td>0</td>\n",
       "      <td>0</td>\n",
       "      <td>...</td>\n",
       "      <td>112596</td>\n",
       "      <td>114235</td>\n",
       "      <td>117232</td>\n",
       "      <td>5000</td>\n",
       "      <td>4000</td>\n",
       "      <td>8000</td>\n",
       "      <td>5000</td>\n",
       "      <td>5000</td>\n",
       "      <td>18000</td>\n",
       "      <td>0.199083</td>\n",
       "    </tr>\n",
       "    <tr>\n",
       "      <th>3950</th>\n",
       "      <td>120000</td>\n",
       "      <td>1</td>\n",
       "      <td>3</td>\n",
       "      <td>1</td>\n",
       "      <td>30</td>\n",
       "      <td>2</td>\n",
       "      <td>2</td>\n",
       "      <td>2</td>\n",
       "      <td>0</td>\n",
       "      <td>0</td>\n",
       "      <td>...</td>\n",
       "      <td>121749</td>\n",
       "      <td>81046</td>\n",
       "      <td>79608</td>\n",
       "      <td>6000</td>\n",
       "      <td>0</td>\n",
       "      <td>5020</td>\n",
       "      <td>6100</td>\n",
       "      <td>0</td>\n",
       "      <td>2800</td>\n",
       "      <td>0.852912</td>\n",
       "    </tr>\n",
       "    <tr>\n",
       "      <th>24829</th>\n",
       "      <td>90000</td>\n",
       "      <td>1</td>\n",
       "      <td>2</td>\n",
       "      <td>1</td>\n",
       "      <td>40</td>\n",
       "      <td>0</td>\n",
       "      <td>0</td>\n",
       "      <td>0</td>\n",
       "      <td>0</td>\n",
       "      <td>0</td>\n",
       "      <td>...</td>\n",
       "      <td>88943</td>\n",
       "      <td>90961</td>\n",
       "      <td>44522</td>\n",
       "      <td>3068</td>\n",
       "      <td>3335</td>\n",
       "      <td>3319</td>\n",
       "      <td>3590</td>\n",
       "      <td>1368</td>\n",
       "      <td>1121</td>\n",
       "      <td>0.320164</td>\n",
       "    </tr>\n",
       "  </tbody>\n",
       "</table>\n",
       "<p>5 rows × 24 columns</p>\n",
       "</div>"
      ],
      "text/plain": [
       "       limit_bal  sex  education  marriage  age  pay_0  pay_2  pay_3  pay_4  \\\n",
       "10156      80000    1          1         2   28      0      0      0      0   \n",
       "7829      140000    1          2         1   29      1      2      2      2   \n",
       "24903     280000    1          1         2   30      0      0      0      0   \n",
       "3950      120000    1          3         1   30      2      2      2      0   \n",
       "24829      90000    1          2         1   40      0      0      0      0   \n",
       "\n",
       "       pay_5  ...  bill_amt4  bill_amt5  bill_amt6  pay_amt1  pay_amt2  \\\n",
       "10156      0  ...      48502      48610      49650      2000      2000   \n",
       "7829       2  ...      73909      78305      76888      3000      3000   \n",
       "24903      0  ...     112596     114235     117232      5000      4000   \n",
       "3950       0  ...     121749      81046      79608      6000         0   \n",
       "24829      0  ...      88943      90961      44522      3068      3335   \n",
       "\n",
       "       pay_amt3  pay_amt4  pay_amt5  pay_amt6  prob_default  \n",
       "10156      2000      1800      1800      2000      0.256787  \n",
       "7829          0      5763         0      6100      0.767510  \n",
       "24903      8000      5000      5000     18000      0.199083  \n",
       "3950       5020      6100         0      2800      0.852912  \n",
       "24829      3319      3590      1368      1121      0.320164  \n",
       "\n",
       "[5 rows x 24 columns]"
      ]
     },
     "execution_count": 30,
     "metadata": {},
     "output_type": "execute_result"
    }
   ],
   "source": [
    "scored = X_test.copy()\n",
    "scored[\"prob_default\"] = prod_model.predict(X_test)\n",
    "scored.head()"
   ]
  },
  {
   "cell_type": "markdown",
   "id": "8b6b7c1b",
   "metadata": {},
   "source": [
    "**Real-Time Inference via REST**  \n",
    "    “POST `X_test` to `/invocations`; receive default probabilities.”"
   ]
  },
  {
   "cell_type": "code",
   "execution_count": 32,
   "id": "8e80e37c",
   "metadata": {},
   "outputs": [
    {
     "name": "stdout",
     "output_type": "stream",
     "text": [
      "Pred shape: (6000,)\n",
      "[0.25678697 0.76751002 0.1990835  0.8529116  0.32016395 0.5280954\n",
      " 0.25779133 0.50946662 0.25159441 0.33330633]\n"
     ]
    }
   ],
   "source": [
    "import requests, numpy as np\n",
    "\n",
    "url = \"http://127.0.0.1:5001/invocations\"\n",
    "payload = {\"dataframe_split\": X_test.to_dict(orient=\"split\")}\n",
    "resp = requests.post(url, json=payload)\n",
    "resp.raise_for_status()  # ensures 200 OK\n",
    "\n",
    "data = resp.json()  # could be list OR dict\n",
    "\n",
    "# Handle both possible formats\n",
    "if isinstance(data, dict):\n",
    "    preds = np.array(data.get(\"predictions\", list(data.values())[0]))\n",
    "else:\n",
    "    preds = np.array(data)\n",
    "\n",
    "print(\"Pred shape:\", preds.shape)\n",
    "print(preds[:10])"
   ]
  },
  {
   "cell_type": "code",
   "execution_count": 33,
   "id": "dc6b208e",
   "metadata": {},
   "outputs": [
    {
     "name": "stdout",
     "output_type": "stream",
     "text": [
      "AUC (local prod): 0.7793992360351945\n",
      "Mean abs diff REST vs local: 2.896988204881268e-17\n"
     ]
    }
   ],
   "source": [
    "rest_preds = preds  \n",
    "local_preds = prod_model.predict(X_test)  # loaded via mlflow.pyfunc.load_model(...)\n",
    "\n",
    "print(\"AUC (local prod):\", roc_auc_score(y_test, local_preds))\n",
    "print(\"Mean abs diff REST vs local:\", np.mean(np.abs(rest_preds - local_preds)))"
   ]
  },
  {
   "cell_type": "code",
   "execution_count": 34,
   "id": "86174183",
   "metadata": {},
   "outputs": [
    {
     "name": "stdout",
     "output_type": "stream",
     "text": [
      "[[3910  763]\n",
      " [ 561  766]]\n",
      "              precision    recall  f1-score   support\n",
      "\n",
      "           0     0.8745    0.8367    0.8552      4673\n",
      "           1     0.5010    0.5772    0.5364      1327\n",
      "\n",
      "    accuracy                         0.7793      6000\n",
      "   macro avg     0.6878    0.7070    0.6958      6000\n",
      "weighted avg     0.7919    0.7793    0.7847      6000\n",
      "\n"
     ]
    }
   ],
   "source": [
    "from sklearn.metrics import classification_report, confusion_matrix\n",
    "\n",
    "y_pred = (rest_preds >= 0.5).astype(int)  # use a different threshold if you want to favor recall/precision\n",
    "print(confusion_matrix(y_test, y_pred))\n",
    "print(classification_report(y_test, y_pred, digits=4))"
   ]
  },
  {
   "cell_type": "code",
   "execution_count": 35,
   "id": "6de65489",
   "metadata": {},
   "outputs": [],
   "source": [
    "scored = X_test.copy()\n",
    "scored[\"prob_default\"] = rest_preds\n",
    "scored.to_csv(\"scored_test_predictions.csv\", index=False)"
   ]
  }
 ],
 "metadata": {
  "kernelspec": {
   "display_name": "credit_env",
   "language": "python",
   "name": "python3"
  },
  "language_info": {
   "codemirror_mode": {
    "name": "ipython",
    "version": 3
   },
   "file_extension": ".py",
   "mimetype": "text/x-python",
   "name": "python",
   "nbconvert_exporter": "python",
   "pygments_lexer": "ipython3",
   "version": "3.10.14"
  }
 },
 "nbformat": 4,
 "nbformat_minor": 5
}
